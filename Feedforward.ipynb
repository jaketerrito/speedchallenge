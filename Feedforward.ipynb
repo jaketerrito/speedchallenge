{
 "cells": [
  {
   "cell_type": "markdown",
   "metadata": {
    "colab_type": "text",
    "id": "view-in-github"
   },
   "source": [
    "<a href=\"https://colab.research.google.com/github/jaketerrito/speedchallenge/blob/master/Feedforward.ipynb\" target=\"_parent\"><img src=\"https://colab.research.google.com/assets/colab-badge.svg\" alt=\"Open In Colab\"/></a>"
   ]
  },
  {
   "cell_type": "code",
   "execution_count": 1,
   "metadata": {
    "colab": {
     "base_uri": "https://localhost:8080/",
     "height": 554
    },
    "colab_type": "code",
    "id": "_xhdPGtxj7JC",
    "outputId": "1ad191e0-4cae-4232-be08-43e349631e19"
   },
   "outputs": [
    {
     "name": "stderr",
     "output_type": "stream",
     "text": [
      "'wget' is not recognized as an internal or external command,\n",
      "operable program or batch file.\n",
      "'wget' is not recognized as an internal or external command,\n",
      "operable program or batch file.\n"
     ]
    }
   ],
   "source": [
    "!wget https://github.com/jaketerrito/speedchallenge/raw/master/data/train.mp4\n",
    "!wget https://github.com/jaketerrito/speedchallenge/raw/master/data/train.txt"
   ]
  },
  {
   "cell_type": "code",
   "execution_count": 2,
   "metadata": {
    "colab": {},
    "colab_type": "code",
    "id": "0T6eRmqppoIB"
   },
   "outputs": [],
   "source": [
    "#!apt-get -qq install -y libsm6 libxext6 && pip install -q -U opencv-python\n",
    "import cv2 as cv"
   ]
  },
  {
   "cell_type": "code",
   "execution_count": 3,
   "metadata": {
    "colab": {},
    "colab_type": "code",
    "id": "YdB8o5dEnW3f"
   },
   "outputs": [],
   "source": [
    "import numpy as np\n",
    "import time\n",
    "from os.path import splitext\n",
    "\n",
    "def denseflow(fname, resize_factor):\n",
    "    cap = cv.VideoCapture(fname)\n",
    "    if (cap.isOpened()== False): \n",
    "        print(\"Error opening video stream or file\")\n",
    "        exit()\n",
    "\n",
    "    # Get the video dimensions, 3 is the ordinal value of CV_CAP_PROP_FRAME_WIDTH, 4 is CV_CAP_PROP_FRAME_HEIGHT\n",
    "    # Also resize them because these images are too big\n",
    "    width = int(cap.get(3) / resize_factor)\n",
    "    height = int(cap.get(4) / resize_factor)\n",
    "    shape = (width,height)\n",
    "    size = int(cap.get(7))\n",
    "    ret, frame1 = cap.read()\n",
    "    frame1 = cv.resize(frame1,shape)\n",
    "    prvs = cv.cvtColor(frame1,cv.COLOR_BGR2GRAY)\n",
    "    hsv = np.zeros_like(frame1)\n",
    "    hsv[...,1] = 255\n",
    "\n",
    "    frames = np.zeros((size,hsv.shape[0],hsv.shape[1],3))\n",
    "    frames[0] = hsv\n",
    "\n",
    "    fcount = 1\n",
    "    t = time.time()\n",
    "\n",
    "    while(1):\n",
    "        ret, frame2 = cap.read()\n",
    "        if not ret:\n",
    "            break\n",
    "        frame2 = cv.resize(frame2,shape)\n",
    "        next = cv.cvtColor(frame2,cv.COLOR_BGR2GRAY)\n",
    "        flow = cv.calcOpticalFlowFarneback(prvs,next, None, 0.5, 3, 15, 3, 5, 1.2, 0)\n",
    "        mag, ang = cv.cartToPolar(flow[...,0], flow[...,1])\n",
    "        hsv[...,0] = ang*180/np.pi/2\n",
    "        hsv[...,2] = cv.normalize(mag,None,0,255,cv.NORM_MINMAX)\n",
    "        frames[fcount] = hsv\n",
    "        prvs = next\n",
    "        fcount += 1\n",
    "    cap.release()\n",
    "\n",
    "    f, ext = splitext(fname)\n",
    "    #np.savez(f+'_op', frames)\n",
    "    return frames"
   ]
  },
  {
   "cell_type": "code",
   "execution_count": 4,
   "metadata": {
    "colab": {
     "base_uri": "https://localhost:8080/",
     "height": 733
    },
    "colab_type": "code",
    "id": "TjZHiENCnXhe",
    "outputId": "b5f04ef8-61ff-4cc9-dcb8-ea17975ebf52"
   },
   "outputs": [],
   "source": [
    "fname = \"data/train.mp4\"\n",
    "'''\n",
    "try:\n",
    "    f, ext = splitext(fname)\n",
    "    with np.load(f + '_op.npz') as data:\n",
    "        video = data['arr_0']\n",
    "except:\n",
    "    print(\"Could not find preprocessed video, creating it now\")\n",
    "'''\n",
    "video = denseflow(fname,4)\n",
    "\n",
    "width = video.shape[2]\n",
    "height = video.shape[1]\n",
    "video_size = len(video)\n",
    "\n",
    "video = video/255"
   ]
  },
  {
   "cell_type": "code",
   "execution_count": 5,
   "metadata": {
    "colab": {},
    "colab_type": "code",
    "id": "GLUeuTeInlFN"
   },
   "outputs": [],
   "source": [
    "import random\n",
    "def data_generator(video, speeds, batch_size, sequence_length):\n",
    "    while True:\n",
    "        x = []\n",
    "        y = []\n",
    "        while len(x) < batch_size:\n",
    "            frame_num = random.randrange(sequence_length,len(video))\n",
    "            sequence = video[frame_num-sequence_length:frame_num]\n",
    "            '''\n",
    "            flip = random.choice([True,False])\n",
    "            angle = random.uniform(-20,20)\n",
    "            scale = random.uniform(.8,1.2)\n",
    "\n",
    "            for i, image in enumerate(sequence):\n",
    "                # Augmentation\n",
    "                image = skimage.transform.rescale(image, scale=scale)\n",
    "                image = skimage.transform.resize(image, output_shape=sequence[i].shape, mode='constant')\n",
    "                image = skimage.transform.rotate(image, angle=angle)\n",
    "\n",
    "                # Really need to see the types of values before we add this noise\n",
    "                image = image + np.random.normal(scale=.5,size=image.shape)\n",
    "\n",
    "                #normalize input!\n",
    "                image = image / 255\n",
    "                sequence[i] = image\n",
    "            '''\n",
    "            x.append(sequence)\n",
    "            y.append(speeds[frame_num-1])\n",
    "        yield np.array(x), np.array(y)\n",
    "\n",
    "def prediction_generator(video, sequence_length):\n",
    "    i = 0\n",
    "    while True:\n",
    "        yield np.array([video[i:i+sequence_length]])\n",
    "        i += 1"
   ]
  },
  {
   "cell_type": "code",
   "execution_count": 6,
   "metadata": {
    "colab": {
     "base_uri": "https://localhost:8080/",
     "height": 34
    },
    "colab_type": "code",
    "id": "B1SVSXdXrfg5",
    "outputId": "36ddc991-f431-440e-ff54-97ad47c81aa9"
   },
   "outputs": [
    {
     "name": "stdout",
     "output_type": "stream",
     "text": [
      "Processing speeds.\n"
     ]
    }
   ],
   "source": [
    "print(\"Processing speeds.\")\n",
    "with open('data/train.txt') as f:\n",
    "    speeds = f.readlines()\n",
    "    speeds = np.array([float(x.strip()) for x in speeds])\n",
    "speeds = speeds"
   ]
  },
  {
   "cell_type": "code",
   "execution_count": 7,
   "metadata": {
    "colab": {},
    "colab_type": "code",
    "id": "yOxcobgvrzsL"
   },
   "outputs": [],
   "source": [
    "import matplotlib.pyplot as plt\n",
    "from tensorflow.keras.layers import Input, Dense, Flatten, Conv3D, MaxPooling3D, MaxPooling2D, Dropout, LeakyReLU, PReLU\n",
    "from tensorflow.keras.models import Model, load_model\n",
    "from tensorflow.keras.callbacks import ModelCheckpoint\n",
    "from tensorflow.keras.optimizers import SGD, RMSprop, Adam"
   ]
  },
  {
   "cell_type": "code",
   "execution_count": 10,
   "metadata": {
    "colab": {
     "base_uri": "https://localhost:8080/",
     "height": 229
    },
    "colab_type": "code",
    "id": "iY6Kbvv0pJzG",
    "outputId": "7868d54b-9636-41a1-c89d-c5121485f58b"
   },
   "outputs": [
    {
     "name": "stdout",
     "output_type": "stream",
     "text": [
      "_________________________________________________________________\n",
      "Layer (type)                 Output Shape              Param #   \n",
      "=================================================================\n",
      "input_2 (InputLayer)         (None, 8, 120, 160, 3)    0         \n",
      "_________________________________________________________________\n",
      "conv3d_3 (Conv3D)            (None, 8, 59, 79, 32)     896       \n",
      "_________________________________________________________________\n",
      "leaky_re_lu_5 (LeakyReLU)    (None, 8, 59, 79, 32)     0         \n",
      "_________________________________________________________________\n",
      "conv3d_4 (Conv3D)            (None, 3, 29, 39, 32)     27680     \n",
      "_________________________________________________________________\n",
      "leaky_re_lu_6 (LeakyReLU)    (None, 3, 29, 39, 32)     0         \n",
      "_________________________________________________________________\n",
      "conv3d_5 (Conv3D)            (None, 1, 14, 19, 32)     27680     \n",
      "_________________________________________________________________\n",
      "leaky_re_lu_7 (LeakyReLU)    (None, 1, 14, 19, 32)     0         \n",
      "_________________________________________________________________\n",
      "flatten_1 (Flatten)          (None, 8512)              0         \n",
      "_________________________________________________________________\n",
      "dropout_2 (Dropout)          (None, 8512)              0         \n",
      "_________________________________________________________________\n",
      "dense_3 (Dense)              (None, 32)                272416    \n",
      "_________________________________________________________________\n",
      "leaky_re_lu_8 (LeakyReLU)    (None, 32)                0         \n",
      "_________________________________________________________________\n",
      "dropout_3 (Dropout)          (None, 32)                0         \n",
      "_________________________________________________________________\n",
      "dense_4 (Dense)              (None, 16)                528       \n",
      "_________________________________________________________________\n",
      "leaky_re_lu_9 (LeakyReLU)    (None, 16)                0         \n",
      "_________________________________________________________________\n",
      "dense_5 (Dense)              (None, 1)                 17        \n",
      "=================================================================\n",
      "Total params: 329,217\n",
      "Trainable params: 329,217\n",
      "Non-trainable params: 0\n",
      "_________________________________________________________________\n"
     ]
    }
   ],
   "source": [
    "batch_size = 16\n",
    "sequence_length = 8\n",
    "epochs = 20\n",
    "split = .9\n",
    "\n",
    "width = video.shape[2]\n",
    "height = video.shape[1]\n",
    "video_size = len(video)\n",
    "\n",
    "train_gen = data_generator(video[:int(video_size*split)], speeds[:int(video_size*split)], batch_size, sequence_length)\n",
    "val_gen = data_generator(video[int(video_size*split):], speeds[int(video_size*split):], batch_size, sequence_length)\n",
    "\n",
    "# Will return a feature and label set.\t\n",
    "# Features are a list of image sequences in the form: (sequence_length, img_height, img_width, dimensions)\n",
    "inputs = Input((sequence_length,height,width,3))\n",
    "# A convolution being applied to each image seperately\n",
    "x = Conv3D(32,(1,3,3),strides=(1,2,2),activation=None)(inputs)\n",
    "x = LeakyReLU(alpha=0.1)(x)\n",
    "x = Conv3D(32,(3,3,3),strides=(2,2,2),activation=None)(x)\n",
    "x = LeakyReLU(alpha=0.1)(x)\n",
    "x = Conv3D(32,(3,3,3),strides=(2,2,2),activation=None)(x)\n",
    "x = LeakyReLU(alpha=0.1)(x)\n",
    "x = Flatten()(x)\n",
    "x = Dropout(.75)(x)\n",
    "x = Dense(32,activation=None)(x)\n",
    "x = LeakyReLU(alpha=0.1)(x)\n",
    "x = Dropout(.5)(x)\n",
    "x = Dense(16,activation=None)(x)\n",
    "x = LeakyReLU(alpha=0.1)(x)\n",
    "outputs = Dense(1,activation=None)(x)\n",
    "\n",
    "model = Model(inputs=inputs,outputs=outputs) \n",
    "model.compile(Adam(lr=.001),loss='mean_squared_error')\n",
    "\n",
    "model.summary()"
   ]
  },
  {
   "cell_type": "code",
   "execution_count": 11,
   "metadata": {
    "colab": {},
    "colab_type": "code",
    "id": "OIzInI35rkgV",
    "scrolled": true
   },
   "outputs": [
    {
     "name": "stdout",
     "output_type": "stream",
     "text": [
      "Epoch 1/20\n",
      "1147/1147 [==============================] - 78s 68ms/step - loss: 33.8208 - val_loss: 8.1782\n",
      "Epoch 2/20\n",
      "1147/1147 [==============================] - 79s 69ms/step - loss: 13.8829 - val_loss: 7.6046\n",
      "Epoch 3/20\n",
      "1147/1147 [==============================] - 77s 67ms/step - loss: 10.2470 - val_loss: 5.8708\n",
      "Epoch 4/20\n",
      "1147/1147 [==============================] - 79s 69ms/step - loss: 8.4741 - val_loss: 6.9167\n",
      "Epoch 5/20\n",
      "1147/1147 [==============================] - 79s 69ms/step - loss: 7.3147 - val_loss: 6.7612\n",
      "Epoch 6/20\n",
      "1147/1147 [==============================] - 79s 69ms/step - loss: 6.5095 - val_loss: 5.5376\n",
      "Epoch 7/20\n",
      "1147/1147 [==============================] - 78s 68ms/step - loss: 5.9906 - val_loss: 5.3288\n",
      "Epoch 8/20\n",
      "1147/1147 [==============================] - 77s 67ms/step - loss: 5.4390 - val_loss: 6.0032\n",
      "Epoch 9/20\n",
      "1147/1147 [==============================] - 77s 67ms/step - loss: 5.0765 - val_loss: 5.7727\n",
      "Epoch 10/20\n",
      "1147/1147 [==============================] - 77s 67ms/step - loss: 4.6380 - val_loss: 5.0065\n",
      "Epoch 11/20\n",
      "1147/1147 [==============================] - 77s 68ms/step - loss: 4.2897 - val_loss: 4.7898\n",
      "Epoch 12/20\n",
      "1147/1147 [==============================] - 77s 67ms/step - loss: 4.0462 - val_loss: 5.7302\n",
      "Epoch 13/20\n",
      "1147/1147 [==============================] - 77s 67ms/step - loss: 3.9770 - val_loss: 5.2596\n",
      "Epoch 14/20\n",
      "1147/1147 [==============================] - 77s 67ms/step - loss: 3.6202 - val_loss: 5.2172\n",
      "Epoch 15/20\n",
      "1147/1147 [==============================] - 77s 67ms/step - loss: 3.4720 - val_loss: 6.5351\n",
      "Epoch 16/20\n",
      "1147/1147 [==============================] - 77s 67ms/step - loss: 3.4536 - val_loss: 6.6371\n",
      "Epoch 17/20\n",
      "1147/1147 [==============================] - 77s 67ms/step - loss: 3.1615 - val_loss: 5.8913\n",
      "Epoch 18/20\n",
      "1147/1147 [==============================] - 77s 67ms/step - loss: 3.0803 - val_loss: 6.8963\n",
      "Epoch 19/20\n",
      "1147/1147 [==============================] - 77s 67ms/step - loss: 3.0685 - val_loss: 4.9878\n",
      "Epoch 20/20\n",
      "1147/1147 [==============================] - 77s 67ms/step - loss: 2.7750 - val_loss: 6.1170\n"
     ]
    }
   ],
   "source": [
    "history = model.fit_generator(\n",
    "    train_gen, \n",
    "    steps_per_epoch=int(video_size*split/batch_size), \n",
    "    validation_data=val_gen, \n",
    "    validation_steps=int(video_size*(1-split)/batch_size),\n",
    "    epochs=epochs,\n",
    "    verbose=True,\n",
    "    callbacks=[ModelCheckpoint('./data/weights.hdf5',save_best_only=True)]\n",
    ")"
   ]
  },
  {
   "cell_type": "code",
   "execution_count": 12,
   "metadata": {},
   "outputs": [
    {
     "data": {
      "image/png": "[encoded data removed]",
      "text/plain": [
       "<Figure size 432x288 with 1 Axes>"
      ]
     },
     "metadata": {
      "needs_background": "light"
     },
     "output_type": "display_data"
    },
    {
     "data": {
      "image/png": "[encoded data removed]",
      "text/plain": [
       "<Figure size 432x288 with 1 Axes>"
      ]
     },
     "metadata": {
      "needs_background": "light"
     },
     "output_type": "display_data"
    }
   ],
   "source": [
    "model2 = load_model(filepath='./data/weights.hdf5')\n",
    "model2.compile(RMSprop(),loss='mean_squared_error')\n",
    "\n",
    "# Plot the training loss against the validation loss\n",
    "plt.plot(history.history['loss'])\n",
    "plt.plot(history.history['val_loss'])\n",
    "plt.xlabel('Epoch')\n",
    "plt.ylabel('Loss')\n",
    "plt.legend(['Loss', 'Validation Loss'])\n",
    "plt.savefig(fname='./data/lossplot')\n",
    "plt.show()\n",
    "\n",
    "plt.clf()\n",
    "\n",
    "pred_gen = prediction_generator(video, sequence_length)\n",
    "\n",
    "# Plotting predicted speeds against real speeds\n",
    "plt.plot(model2.predict_generator(pred_gen, steps=video_size-sequence_length))\n",
    "plt.plot(speeds)\n",
    "plt.xlabel('Frame')\n",
    "plt.ylabel('Speed in mph')\n",
    "plt.legend(['Predicted', 'Real'])\n",
    "plt.savefig(fname='./data/speedplot')\n",
    "plt.show()"
   ]
  },
  {
   "cell_type": "code",
   "execution_count": null,
   "metadata": {},
   "outputs": [],
   "source": []
  }
 ],
 "metadata": {
  "colab": {
   "collapsed_sections": [],
   "include_colab_link": true,
   "name": "Untitled2.ipynb",
   "provenance": [],
   "version": "0.3.2"
  },
  "kernelspec": {
   "display_name": "Python 3",
   "language": "python",
   "name": "python3"
  },
  "language_info": {
   "codemirror_mode": {
    "name": "ipython",
    "version": 3
   },
   "file_extension": ".py",
   "mimetype": "text/x-python",
   "name": "python",
   "nbconvert_exporter": "python",
   "pygments_lexer": "ipython3",
   "version": "3.5.6"
  }
 },
 "nbformat": 4,
 "nbformat_minor": 1
}
