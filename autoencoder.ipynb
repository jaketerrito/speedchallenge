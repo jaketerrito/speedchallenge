{
 "cells": [
  {
   "cell_type": "markdown",
   "metadata": {
    "colab_type": "text",
    "id": "view-in-github"
   },
   "source": [
    "<a href=\"https://colab.research.google.com/github/jaketerrito/speedchallenge/blob/autoencoder/Feedforward.ipynb\" target=\"_parent\"><img src=\"https://colab.research.google.com/assets/colab-badge.svg\" alt=\"Open In Colab\"/></a>"
   ]
  },
  {
   "cell_type": "code",
   "execution_count": 1,
   "metadata": {
    "colab": {
     "base_uri": "https://localhost:8080/",
     "height": 564
    },
    "colab_type": "code",
    "id": "_xhdPGtxj7JC",
    "outputId": "77f6c367-053d-41ac-9206-e8655c8e6c63"
   },
   "outputs": [
    {
     "name": "stderr",
     "output_type": "stream",
     "text": [
      "'wget' is not recognized as an internal or external command,\n",
      "operable program or batch file.\n",
      "'wget' is not recognized as an internal or external command,\n",
      "operable program or batch file.\n"
     ]
    }
   ],
   "source": [
    "!wget https://github.com/jaketerrito/speedchallenge/raw/master/data/train.mp4\n",
    "!wget https://github.com/jaketerrito/speedchallenge/raw/master/data/train.txt"
   ]
  },
  {
   "cell_type": "code",
   "execution_count": 2,
   "metadata": {
    "colab": {},
    "colab_type": "code",
    "id": "0T6eRmqppoIB"
   },
   "outputs": [
    {
     "name": "stderr",
     "output_type": "stream",
     "text": [
      "'apt-get' is not recognized as an internal or external command,\n",
      "operable program or batch file.\n"
     ]
    }
   ],
   "source": [
    "!apt-get -qq install -y libsm6 libxext6 && pip install -q -U opencv-python\n",
    "import cv2 as cv"
   ]
  },
  {
   "cell_type": "code",
   "execution_count": 3,
   "metadata": {
    "colab": {},
    "colab_type": "code",
    "id": "YdB8o5dEnW3f"
   },
   "outputs": [],
   "source": [
    "import numpy as np\n",
    "import time\n",
    "from os.path import splitext\n",
    "\n",
    "def denseflow(fname, resize_factor):\n",
    "    cap = cv.VideoCapture(fname)\n",
    "    if (cap.isOpened()== False): \n",
    "        print(\"Error opening video stream or file\")\n",
    "        exit()\n",
    "\n",
    "    # Get the video dimensions, 3 is the ordinal value of CV_CAP_PROP_FRAME_WIDTH, 4 is CV_CAP_PROP_FRAME_HEIGHT\n",
    "    # Also resize them because these images are too big\n",
    "    width = int(cap.get(3) / resize_factor)\n",
    "    height = int(cap.get(4) / resize_factor)\n",
    "    shape = (width,height)\n",
    "    size = int(cap.get(7))\n",
    "    ret, frame1 = cap.read()\n",
    "    frame1 = cv.resize(frame1,shape)\n",
    "    prvs = cv.cvtColor(frame1,cv.COLOR_BGR2GRAY)\n",
    "    hsv = np.zeros_like(frame1)\n",
    "    hsv[...,1] = 255\n",
    "\n",
    "    frames = np.zeros((size,hsv.shape[0],hsv.shape[1],3))\n",
    "    frames[0] = hsv\n",
    "\n",
    "    fcount = 1\n",
    "    t = time.time()\n",
    "\n",
    "    while(1):\n",
    "        ret, frame2 = cap.read()\n",
    "        if not ret:\n",
    "            break\n",
    "        frame2 = cv.resize(frame2,shape)\n",
    "        next = cv.cvtColor(frame2,cv.COLOR_BGR2GRAY)\n",
    "        flow = cv.calcOpticalFlowFarneback(prvs,next, None, 0.5, 3, 15, 3, 5, 1.2, 0)\n",
    "        mag, ang = cv.cartToPolar(flow[...,0], flow[...,1])\n",
    "        hsv[...,0] = ang*180/np.pi/2\n",
    "        hsv[...,2] = cv.normalize(mag,None,0,255,cv.NORM_MINMAX)\n",
    "        frames[fcount] = hsv\n",
    "        prvs = next\n",
    "        fcount += 1\n",
    "    cap.release()\n",
    "\n",
    "    f, ext = splitext(fname)\n",
    "    #np.savez(f+'_op', frames)\n",
    "    return frames"
   ]
  },
  {
   "cell_type": "code",
   "execution_count": 4,
   "metadata": {
    "colab": {},
    "colab_type": "code",
    "id": "TjZHiENCnXhe"
   },
   "outputs": [],
   "source": [
    "fname = \"data/train.mp4\"\n",
    "try:\n",
    "    f, ext = splitext(fname)\n",
    "    with np.load(f + '_op.npz') as data:\n",
    "        video = data['arr_0']\n",
    "except:\n",
    "    print(\"Could not find preprocessed video, creating it now\")\n",
    "    video = denseflow(fname, 4)\n",
    "width = video.shape[2]\n",
    "height = video.shape[1]\n",
    "video_size = len(video)\n",
    "\n",
    "video = video/255"
   ]
  },
  {
   "cell_type": "code",
   "execution_count": 5,
   "metadata": {
    "colab": {
     "base_uri": "https://localhost:8080/",
     "height": 34
    },
    "colab_type": "code",
    "id": "B1SVSXdXrfg5",
    "outputId": "b8306c4b-509f-4bff-bf75-4cdc9ee3f792"
   },
   "outputs": [
    {
     "name": "stdout",
     "output_type": "stream",
     "text": [
      "Processing speeds.\n"
     ]
    }
   ],
   "source": [
    "print(\"Processing speeds.\")\n",
    "with open('data/train.txt') as f:\n",
    "\tspeeds = f.readlines()\n",
    "\tspeeds = np.array([float(x.strip()) for x in speeds])\n",
    "\tspeeds = speeds"
   ]
  },
  {
   "cell_type": "code",
   "execution_count": 6,
   "metadata": {
    "colab": {},
    "colab_type": "code",
    "id": "yOxcobgvrzsL"
   },
   "outputs": [
    {
     "name": "stderr",
     "output_type": "stream",
     "text": [
      "C:\\Users\\jat62\\Anaconda3\\envs\\tensorflow\\lib\\site-packages\\h5py\\__init__.py:36: FutureWarning: Conversion of the second argument of issubdtype from `float` to `np.floating` is deprecated. In future, it will be treated as `np.float64 == np.dtype(float).type`.\n",
      "  from ._conv import register_converters as _register_converters\n"
     ]
    }
   ],
   "source": [
    "import matplotlib.pyplot as plt\n",
    "import random\n",
    "from tensorflow.keras.layers import Input, Dense, Flatten, Conv3D, MaxPooling3D, MaxPooling2D, BatchNormalization, Dropout, LeakyReLU, PReLU, Conv2DTranspose, Reshape, ZeroPadding2D\n",
    "from tensorflow.keras.models import Model, load_model\n",
    "from tensorflow.keras.callbacks import ModelCheckpoint\n",
    "from tensorflow.keras.optimizers import SGD, RMSprop, Adam"
   ]
  },
  {
   "cell_type": "code",
   "execution_count": 7,
   "metadata": {
    "colab": {},
    "colab_type": "code",
    "id": "NyjLOXobMfAF"
   },
   "outputs": [],
   "source": [
    "'''\n",
    "A Generator that produces sets of training features and labels\n",
    "* video:  A list of video frames\n",
    "* speeds: A list of corresponding speeds\n",
    "* batch_size: number of samples to produce for each batch\n",
    "* sequence_length: number of images that model consider for each prediction\n",
    "'''\n",
    "def data_generator(video, speeds, batch_size, sequence_length):\n",
    "    while True:\n",
    "        sequences = []\n",
    "        speed_vals = []\n",
    "        next_frames = []\n",
    "        while len(sequences) < batch_size:\n",
    "            frame_num = random.randrange(sequence_length,len(video)-1)\n",
    "            sequence = video[frame_num-sequence_length:frame_num]\n",
    "            next_frame = video[frame_num+1]\n",
    "            '''\n",
    "            flip = random.choice([True,False])\n",
    "            angle = random.uniform(-20,20)\n",
    "            scale = random.uniform(.8,1.2)\n",
    "            for i, image in enumerate(sequence):\n",
    "                # Augmentation\n",
    "                image = skimage.transform.rescale(image, scale=scale)\n",
    "                image = skimage.transform.resize(image, output_shape=sequence[i].shape, mode='constant')\n",
    "                image = skimage.transform.rotate(image, angle=angle)\n",
    "                # Really need to see the types of values before we add this noise\n",
    "                image = image + np.random.normal(scale=.5,size=image.shape)\n",
    "                sequence[i] = image\n",
    "            '''\n",
    "            sequences.append(sequence)\n",
    "            speed_vals.append(speeds[frame_num])\n",
    "            next_frames.append(next_frame)\n",
    "        yield np.array(sequences), [np.array(next_frames), np.array(speed_vals)]"
   ]
  },
  {
   "cell_type": "code",
   "execution_count": 21,
   "metadata": {
    "colab": {},
    "colab_type": "code",
    "id": "iY6Kbvv0pJzG"
   },
   "outputs": [],
   "source": [
    "batch_size = 16\n",
    "sequence_length = 8\n",
    "epochs = 5\n",
    "split = .9\n",
    "\n",
    "train_gen = data_generator(video[:int(video_size*split)], speeds[:int(video_size*split)], batch_size, sequence_length)\n",
    "val_gen = data_generator(video[int(video_size*split):], speeds[int(video_size*split):], batch_size, sequence_length)\n",
    "\n",
    "# Will return a feature and label set.\t\n",
    "# Features are a list of image sequences in the form: (sequence_length, img_height, img_width, dimensions)\n",
    "def get_encoder():\n",
    "  inputs = Input((sequence_length,height,width,3))\n",
    "\n",
    "  # A convolution being applied to each image seperatey\n",
    "  x = Conv3D(32,(1,3,3),strides=(1,2,2),activation=None)(inputs)\n",
    "  x = LeakyReLU(alpha=0.1)(x)\n",
    "  x = BatchNormalization()(x)\n",
    "  x = Conv3D(32,(3,3,3),strides=(2,2,2),activation=None)(x)\n",
    "  x = LeakyReLU(alpha=0.1)(x)\n",
    "  x = BatchNormalization()(x)\n",
    "  x = Conv3D(32,(3,3,3),strides=(2,2,2),activation=None)(x)\n",
    "  x = LeakyReLU(alpha=0.1)(x)\n",
    "  x = BatchNormalization()(x)\n",
    "  x = Flatten()(x)\n",
    "  x = Dense(32,activation=None)(x)\n",
    "  x = LeakyReLU(alpha=0.1)(x)\n",
    "  outputs = Dense(32,activation='tanh')(x)\n",
    "  return Model(inputs=inputs,outputs=outputs)\n",
    "  \n",
    "def get_decoder():\n",
    "  inputs = Input((32,))\n",
    "  x = Dense(14*19*32,activation=None)(inputs)\n",
    "  x = LeakyReLU(alpha=0.1)(x)\n",
    "  x = Reshape((14,19,32))(x)\n",
    "  x = Conv2DTranspose(32,(3,3),strides=(2,2),activation=None)(x)\n",
    "  x = LeakyReLU(alpha=0.1)(x)\n",
    "  x = Conv2DTranspose(32,(3,3),strides=(2,2),activation=None)(x)\n",
    "  x = LeakyReLU(alpha=0.1)(x)\n",
    "  x = Conv2DTranspose(3,(3,3),strides=(2,2),activation=None)(x)\n",
    "  outputs = ZeroPadding2D(((0,1),(0,1)))(x)\n",
    "  return Model(inputs=inputs, outputs=outputs,name='decoder')\n",
    "# regularizers instead of batch norm?\n",
    "# try increasing dropout?\n",
    "# lowering image resolution?\n",
    "def get_regression():\n",
    "  inputs = Input((32,))\n",
    "  x = Dropout(.5)(inputs)\n",
    "  x = Dense(16,activation=None)(x)\n",
    "  x = Dropout(.5)(x)\n",
    "  x = LeakyReLU(alpha=0.1)(x)\n",
    "  outputs = Dense(1,activation='linear')(x)\n",
    "  \n",
    "  return Model(inputs=inputs,outputs=outputs,name='regression')\n",
    "#print(get_encoder().summary())\n",
    "#print(get_decoder().summary())\n",
    "\n",
    "# build the autoencoder\n",
    "inputs = Input((sequence_length,height,width,3))\n",
    "latent = get_encoder()(inputs)\n",
    "regression_output = get_regression()(latent)\n",
    "dec_output = get_decoder()(latent)\n",
    "autoencoder = Model(inputs=inputs,outputs=[dec_output,regression_output])\n",
    "\n",
    "# compile with mean absolute error loss on reconstructed image and binary_cross for discriminator\n",
    "autoencoder.compile(loss=['mse','mse'],optimizer=Adam(), loss_weights=[.5,.5])"
   ]
  },
  {
   "cell_type": "code",
   "execution_count": 22,
   "metadata": {
    "colab": {
     "base_uri": "https://localhost:8080/",
     "height": 34
    },
    "colab_type": "code",
    "id": "OIzInI35rkgV",
    "outputId": "46907101-f6d0-49a7-e84c-bcb8e90ac18c"
   },
   "outputs": [
    {
     "name": "stdout",
     "output_type": "stream",
     "text": [
      "Epoch 1/5\n",
      "1147/1147 [==============================] - 153s 133ms/step - loss: 23.2954 - decoder_loss: 0.5720 - regression_loss: 46.0187 - val_loss: 3.8954 - val_decoder_loss: 0.4347 - val_regression_loss: 7.3560\n",
      "Epoch 2/5\n",
      "1147/1147 [==============================] - 150s 131ms/step - loss: 15.4595 - decoder_loss: 0.4278 - regression_loss: 30.4911 - val_loss: 5.0160 - val_decoder_loss: 0.4139 - val_regression_loss: 9.6182\n",
      "Epoch 3/5\n",
      "1147/1147 [==============================] - 153s 134ms/step - loss: 13.5238 - decoder_loss: 0.4245 - regression_loss: 26.6231 - val_loss: 4.3001 - val_decoder_loss: 0.4222 - val_regression_loss: 8.1780\n",
      "Epoch 4/5\n",
      "1147/1147 [==============================] - 155s 135ms/step - loss: 11.6678 - decoder_loss: 0.4214 - regression_loss: 22.9142 - val_loss: 4.6340 - val_decoder_loss: 0.4136 - val_regression_loss: 8.8544\n",
      "Epoch 5/5\n",
      "1147/1147 [==============================] - 155s 135ms/step - loss: 11.0488 - decoder_loss: 0.4212 - regression_loss: 21.6763 - val_loss: 4.5453 - val_decoder_loss: 0.4123 - val_regression_loss: 8.6784\n"
     ]
    }
   ],
   "source": [
    "history = autoencoder.fit_generator(\n",
    "    train_gen, \n",
    "    steps_per_epoch=int(video_size*split/batch_size), \n",
    "    validation_data=val_gen, \n",
    "    validation_steps=int(video_size*(1-split)/batch_size),\n",
    "    epochs=epochs,\n",
    "    verbose=True,\n",
    "    callbacks=[ModelCheckpoint('./data/weights.hdf5',save_best_only=True)]\n",
    ")"
   ]
  },
  {
   "cell_type": "code",
   "execution_count": 23,
   "metadata": {
    "colab": {},
    "colab_type": "code",
    "id": "fKkR2yL0rpx5"
   },
   "outputs": [
    {
     "data": {
      "image/png": "[encoded data removed]",
      "text/plain": [
       "<Figure size 432x288 with 1 Axes>"
      ]
     },
     "metadata": {},
     "output_type": "display_data"
    },
    {
     "data": {
      "text/plain": [
       "<Figure size 432x288 with 0 Axes>"
      ]
     },
     "metadata": {},
     "output_type": "display_data"
    }
   ],
   "source": [
    "# Plot the training loss against the validation loss\n",
    "plt.plot(history.history['regression_loss'])\n",
    "plt.plot(history.history['val_regression_loss'])\n",
    "plt.xlabel('Epoch')\n",
    "plt.ylabel('Loss')\n",
    "plt.legend(['Loss', 'Validation Loss'])\n",
    "plt.savefig(fname='./data/lossplot')\n",
    "plt.show()\n",
    "\n",
    "plt.clf()"
   ]
  },
  {
   "cell_type": "code",
   "execution_count": null,
   "metadata": {},
   "outputs": [],
   "source": []
  }
 ],
 "metadata": {
  "colab": {
   "collapsed_sections": [],
   "include_colab_link": true,
   "name": "Untitled2.ipynb",
   "provenance": [],
   "version": "0.3.2"
  },
  "kernelspec": {
   "display_name": "Python 3",
   "language": "python",
   "name": "python3"
  },
  "language_info": {
   "codemirror_mode": {
    "name": "ipython",
    "version": 3
   },
   "file_extension": ".py",
   "mimetype": "text/x-python",
   "name": "python",
   "nbconvert_exporter": "python",
   "pygments_lexer": "ipython3",
   "version": "3.5.5"
  }
 },
 "nbformat": 4,
 "nbformat_minor": 1
}
