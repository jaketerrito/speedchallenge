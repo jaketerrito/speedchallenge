{
 "cells": [
  {
   "cell_type": "markdown",
   "metadata": {
    "colab_type": "text",
    "id": "view-in-github"
   },
   "source": [
    "<a href=\"https://colab.research.google.com/github/jaketerrito/speedchallenge/blob/autoencoder/Feedforward.ipynb\" target=\"_parent\"><img src=\"https://colab.research.google.com/assets/colab-badge.svg\" alt=\"Open In Colab\"/></a>"
   ]
  },
  {
   "cell_type": "code",
   "execution_count": null,
   "metadata": {
    "colab": {
     "base_uri": "https://localhost:8080/",
     "height": 564
    },
    "colab_type": "code",
    "id": "_xhdPGtxj7JC",
    "outputId": "77f6c367-053d-41ac-9206-e8655c8e6c63"
   },
   "outputs": [],
   "source": [
    "!wget https://github.com/jaketerrito/speedchallenge/raw/master/data/train.mp4\n",
    "!wget https://github.com/jaketerrito/speedchallenge/raw/master/data/train.txt"
   ]
  },
  {
   "cell_type": "code",
   "execution_count": 1,
   "metadata": {
    "colab": {},
    "colab_type": "code",
    "id": "0T6eRmqppoIB"
   },
   "outputs": [],
   "source": [
    "#!apt-get -qq install -y libsm6 libxext6 && pip install -q -U opencv-python\n",
    "import cv2 as cv"
   ]
  },
  {
   "cell_type": "code",
   "execution_count": 2,
   "metadata": {
    "colab": {},
    "colab_type": "code",
    "id": "YdB8o5dEnW3f"
   },
   "outputs": [],
   "source": [
    "import numpy as np\n",
    "import time\n",
    "from os.path import splitext\n",
    "\n",
    "def denseflow(fname, resize_factor):\n",
    "    cap = cv.VideoCapture(fname)\n",
    "    if (cap.isOpened()== False): \n",
    "        print(\"Error opening video stream or file\")\n",
    "        exit()\n",
    "\n",
    "    # Get the video dimensions, 3 is the ordinal value of CV_CAP_PROP_FRAME_WIDTH, 4 is CV_CAP_PROP_FRAME_HEIGHT\n",
    "    # Also resize them because these images are too big\n",
    "    width = int(cap.get(3) / resize_factor)\n",
    "    height = int(cap.get(4) / resize_factor)\n",
    "    shape = (width,height)\n",
    "    size = int(cap.get(7))\n",
    "    ret, frame1 = cap.read()\n",
    "    frame1 = cv.resize(frame1,shape)\n",
    "    prvs = cv.cvtColor(frame1,cv.COLOR_BGR2GRAY)\n",
    "    hsv = np.zeros_like(frame1)\n",
    "    hsv[...,1] = 255\n",
    "\n",
    "    frames = np.zeros((size,hsv.shape[0],hsv.shape[1],3))\n",
    "    frames[0] = hsv\n",
    "\n",
    "    fcount = 1\n",
    "    t = time.time()\n",
    "\n",
    "    while(1):\n",
    "        ret, frame2 = cap.read()\n",
    "        if not ret:\n",
    "            break\n",
    "        frame2 = cv.resize(frame2,shape)\n",
    "        next = cv.cvtColor(frame2,cv.COLOR_BGR2GRAY)\n",
    "        flow = cv.calcOpticalFlowFarneback(prvs,next, None, 0.5, 3, 15, 3, 5, 1.2, 0)\n",
    "        mag, ang = cv.cartToPolar(flow[...,0], flow[...,1])\n",
    "        hsv[...,0] = ang*180/np.pi/2\n",
    "        hsv[...,2] = cv.normalize(mag,None,0,255,cv.NORM_MINMAX)\n",
    "        frames[fcount] = hsv\n",
    "        prvs = next\n",
    "        fcount += 1\n",
    "    cap.release()\n",
    "\n",
    "    f, ext = splitext(fname)\n",
    "    #np.savez(f+'_op', frames)\n",
    "    return frames\n",
    "\n",
    "def plainVideo(fname, resize_factor):\n",
    "    cap = cv.VideoCapture(fname)\n",
    "    if (cap.isOpened()== False): \n",
    "        print(\"Error opening video stream or file\")\n",
    "        exit()\n",
    "\n",
    "    width = int(cap.get(3) / resize_factor)\n",
    "    height = int(cap.get(4) / resize_factor)\n",
    "    shape = (width,height)\n",
    "    size = int(cap.get(7))\n",
    "    ret, frame1 = cap.read()\n",
    "    frame1 = cv.resize(frame1,shape)\n",
    "    \n",
    "    frames = np.zeros((size, frame1.shape[0], frame1.shape[1],3))\n",
    "    frames[0] = frame1\n",
    "    fcount = 1\n",
    "    while(1):\n",
    "        ret, frame2 = cap.read()\n",
    "        if not ret:\n",
    "            break\n",
    "        frame2 = cv.resize(frame2,shape)\n",
    "        frames[fcount] = frame2\n",
    "        fcount += 1\n",
    "    cap.release()\n",
    "    return frames"
   ]
  },
  {
   "cell_type": "code",
   "execution_count": 3,
   "metadata": {
    "colab": {},
    "colab_type": "code",
    "id": "TjZHiENCnXhe"
   },
   "outputs": [],
   "source": [
    "fname = \"data/train.mp4\"\n",
    "\n",
    "try:\n",
    "    f, ext = splitext(fname)\n",
    "    with np.load(f + '_op.npz') as data:\n",
    "        video = data['arr_0']\n",
    "except:\n",
    "    print(\"Could not find preprocessed video, creating it now\")\n",
    "    video = denseflow(fname, 4)\n",
    "\n",
    "width = video.shape[2]\n",
    "height = video.shape[1]\n",
    "video_size = len(video)\n",
    "\n",
    "video = video/255"
   ]
  },
  {
   "cell_type": "code",
   "execution_count": 4,
   "metadata": {
    "colab": {
     "base_uri": "https://localhost:8080/",
     "height": 34
    },
    "colab_type": "code",
    "id": "B1SVSXdXrfg5",
    "outputId": "b8306c4b-509f-4bff-bf75-4cdc9ee3f792"
   },
   "outputs": [
    {
     "name": "stdout",
     "output_type": "stream",
     "text": [
      "Processing speeds.\n"
     ]
    }
   ],
   "source": [
    "print(\"Processing speeds.\")\n",
    "with open('data/train.txt') as f:\n",
    "\tspeeds = f.readlines()\n",
    "\tspeeds = np.array([float(x.strip()) for x in speeds])\n",
    "\tspeeds = speeds"
   ]
  },
  {
   "cell_type": "code",
   "execution_count": 5,
   "metadata": {
    "colab": {},
    "colab_type": "code",
    "id": "yOxcobgvrzsL"
   },
   "outputs": [],
   "source": [
    "import matplotlib.pyplot as plt\n",
    "import random\n",
    "from tensorflow.keras.layers import Input, Dense, Flatten, Conv3D, MaxPooling3D, MaxPooling2D, BatchNormalization, Dropout, LeakyReLU, PReLU, Conv2DTranspose, Reshape, ZeroPadding2D\n",
    "from tensorflow.keras.models import Model, load_model\n",
    "from tensorflow.keras.callbacks import ModelCheckpoint\n",
    "from tensorflow.keras.optimizers import SGD, RMSprop, Adam\n",
    "import tensorflow as tf"
   ]
  },
  {
   "cell_type": "code",
   "execution_count": 6,
   "metadata": {
    "colab": {},
    "colab_type": "code",
    "id": "NyjLOXobMfAF"
   },
   "outputs": [],
   "source": [
    "'''\n",
    "A Generator that produces sets of training features and labels\n",
    "* video:  A list of video frames\n",
    "* speeds: A list of corresponding speeds\n",
    "* batch_size: number of samples to produce for each batch\n",
    "* sequence_length: number of images that model consider for each prediction\n",
    "'''\n",
    "def image_generator(video, batch_size, sequence_length):\n",
    "    while True:\n",
    "        sequences = []\n",
    "        #speed_vals = []\n",
    "        next_frames = []\n",
    "        while len(sequences) < batch_size:\n",
    "            frame_num = random.randrange(sequence_length,len(video)-1)\n",
    "            sequence = video[frame_num-sequence_length:frame_num]\n",
    "            next_frame = video[frame_num-1]\n",
    "            '''\n",
    "            flip = random.choice([True,False])\n",
    "            angle = random.uniform(-20,20)\n",
    "            scale = random.uniform(.8,1.2)\n",
    "            for i, image in enumerate(sequence):\n",
    "                # Augmentation\n",
    "                image = skimage.transform.rescale(image, scale=scale)\n",
    "                image = skimage.transform.resize(image, output_shape=sequence[i].shape, mode='constant')\n",
    "                image = skimage.transform.rotate(image, angle=angle)\n",
    "                # Really need to see the types of values before we add this noise\n",
    "                image = image + np.random.normal(scale=.5,size=image.shape)\n",
    "                sequence[i] = image\n",
    "            '''\n",
    "            sequences.append(sequence)\n",
    "            next_frames.append(next_frame)\n",
    "        yield np.array(sequences), np.array(next_frames)\n",
    "\n",
    "def speed_generator(video, speeds, batch_size, sequence_length):\n",
    "    while True:\n",
    "        sequences = []\n",
    "        speed_vals = []\n",
    "        while len(sequences) < batch_size:\n",
    "            frame_num = random.randrange(sequence_length,len(video))\n",
    "            sequence = video[frame_num-sequence_length:frame_num]\n",
    "            '''\n",
    "            flip = random.choice([True,False])\n",
    "            angle = random.uniform(-20,20)\n",
    "            scale = random.uniform(.8,1.2)\n",
    "            for i, image in enumerate(sequence):\n",
    "                # Augmentation\n",
    "                image = skimage.transform.rescale(image, scale=scale)\n",
    "                image = skimage.transform.resize(image, output_shape=sequence[i].shape, mode='constant')\n",
    "                image = skimage.transform.rotate(image, angle=angle)\n",
    "                # Really need to see the types of values before we add this noise\n",
    "                image = image + np.random.normal(scale=.5,size=image.shape)\n",
    "                sequence[i] = image\n",
    "            '''\n",
    "            sequences.append(sequence)\n",
    "            speed_vals.append(speeds[frame_num-1])\n",
    "        yield np.array(sequences), np.array(speed_vals)"
   ]
  },
  {
   "cell_type": "code",
   "execution_count": 7,
   "metadata": {
    "colab": {},
    "colab_type": "code",
    "id": "iY6Kbvv0pJzG"
   },
   "outputs": [
    {
     "name": "stdout",
     "output_type": "stream",
     "text": [
      "Encoder:\n",
      "_________________________________________________________________\n",
      "Layer (type)                 Output Shape              Param #   \n",
      "=================================================================\n",
      "input_1 (InputLayer)         (None, 8, 120, 160, 3)    0         \n",
      "_________________________________________________________________\n",
      "conv3d (Conv3D)              (None, 8, 59, 79, 32)     896       \n",
      "_________________________________________________________________\n",
      "leaky_re_lu (LeakyReLU)      (None, 8, 59, 79, 32)     0         \n",
      "_________________________________________________________________\n",
      "batch_normalization (BatchNo (None, 8, 59, 79, 32)     128       \n",
      "_________________________________________________________________\n",
      "conv3d_1 (Conv3D)            (None, 3, 29, 39, 32)     27680     \n",
      "_________________________________________________________________\n",
      "leaky_re_lu_1 (LeakyReLU)    (None, 3, 29, 39, 32)     0         \n",
      "_________________________________________________________________\n",
      "batch_normalization_1 (Batch (None, 3, 29, 39, 32)     128       \n",
      "_________________________________________________________________\n",
      "conv3d_2 (Conv3D)            (None, 1, 14, 19, 32)     27680     \n",
      "_________________________________________________________________\n",
      "leaky_re_lu_2 (LeakyReLU)    (None, 1, 14, 19, 32)     0         \n",
      "_________________________________________________________________\n",
      "batch_normalization_2 (Batch (None, 1, 14, 19, 32)     128       \n",
      "_________________________________________________________________\n",
      "flatten (Flatten)            (None, 8512)              0         \n",
      "_________________________________________________________________\n",
      "dropout (Dropout)            (None, 8512)              0         \n",
      "_________________________________________________________________\n",
      "dense (Dense)                (None, 32)                272416    \n",
      "_________________________________________________________________\n",
      "leaky_re_lu_3 (LeakyReLU)    (None, 32)                0         \n",
      "_________________________________________________________________\n",
      "dense_1 (Dense)              (None, 16)                528       \n",
      "=================================================================\n",
      "Total params: 329,584\n",
      "Trainable params: 329,392\n",
      "Non-trainable params: 192\n",
      "_________________________________________________________________\n",
      "Decoder:\n",
      "_________________________________________________________________\n",
      "Layer (type)                 Output Shape              Param #   \n",
      "=================================================================\n",
      "input_2 (InputLayer)         (None, 16)                0         \n",
      "_________________________________________________________________\n",
      "dense_2 (Dense)              (None, 32)                544       \n",
      "_________________________________________________________________\n",
      "leaky_re_lu_4 (LeakyReLU)    (None, 32)                0         \n",
      "_________________________________________________________________\n",
      "dense_3 (Dense)              (None, 8512)              280896    \n",
      "_________________________________________________________________\n",
      "leaky_re_lu_5 (LeakyReLU)    (None, 8512)              0         \n",
      "_________________________________________________________________\n",
      "reshape (Reshape)            (None, 14, 19, 32)        0         \n",
      "_________________________________________________________________\n",
      "conv2d_transpose (Conv2DTran (None, 29, 39, 32)        9248      \n",
      "_________________________________________________________________\n",
      "leaky_re_lu_6 (LeakyReLU)    (None, 29, 39, 32)        0         \n",
      "_________________________________________________________________\n",
      "batch_normalization_3 (Batch (None, 29, 39, 32)        128       \n",
      "_________________________________________________________________\n",
      "conv2d_transpose_1 (Conv2DTr (None, 59, 79, 32)        9248      \n",
      "_________________________________________________________________\n",
      "leaky_re_lu_7 (LeakyReLU)    (None, 59, 79, 32)        0         \n",
      "_________________________________________________________________\n",
      "batch_normalization_4 (Batch (None, 59, 79, 32)        128       \n",
      "_________________________________________________________________\n",
      "conv2d_transpose_2 (Conv2DTr (None, 119, 159, 3)       867       \n",
      "_________________________________________________________________\n",
      "zero_padding2d (ZeroPadding2 (None, 120, 160, 3)       0         \n",
      "_________________________________________________________________\n",
      "batch_normalization_5 (Batch (None, 120, 160, 3)       12        \n",
      "=================================================================\n",
      "Total params: 301,071\n",
      "Trainable params: 300,937\n",
      "Non-trainable params: 134\n",
      "_________________________________________________________________\n"
     ]
    }
   ],
   "source": [
    "batch_size = 16\n",
    "sequence_length = 8\n",
    "epochs = 5\n",
    "split = .8\n",
    "latent_size = 16\n",
    "\n",
    "train_ae_gen = image_generator(video[:int(video_size*split)], batch_size, sequence_length)\n",
    "val_ae_gen = image_generator(video[int(video_size*split):], batch_size, sequence_length)\n",
    "\n",
    "train_re_gen = speed_generator(video[:int(video_size*split)], speeds[:int(video_size*split)], batch_size, sequence_length)\n",
    "val_re_gen = speed_generator(video[int(video_size*split):], speeds[int(video_size*split):], batch_size, sequence_length)\n",
    "\n",
    "# Will return a feature and label set.\t\n",
    "# Features are a list of image sequences in the form: (sequence_length, img_height, img_width, dimensions)\n",
    "def get_encoder():\n",
    "    inputs = Input((sequence_length,height,width,3))\n",
    "\n",
    "    x = Conv3D(32,(1,3,3),strides=(1,2,2),activation=None)(inputs)\n",
    "    x = LeakyReLU(alpha=0.1)(x)\n",
    "    x = BatchNormalization()(x)\n",
    "    x = Conv3D(32,(3,3,3),strides=(2,2,2),activation=None)(x)\n",
    "    x = LeakyReLU(alpha=0.1)(x)\n",
    "    x = BatchNormalization()(x)\n",
    "    x = Conv3D(32,(3,3,3),strides=(2,2,2),activation=None)(x)\n",
    "    x = LeakyReLU(alpha=0.1)(x)\n",
    "    x = BatchNormalization()(x)\n",
    "    x = Flatten()(x)\n",
    "    x = Dropout(.5)(x)\n",
    "    \n",
    "    x = Dense(32,activation=None)(x)\n",
    "    x = LeakyReLU(alpha=0.1)(x)\n",
    "    outputs = Dense(latent_size,activation='tanh')(x)\n",
    "    return Model(inputs=inputs,outputs=outputs)\n",
    "  \n",
    "def get_decoder():\n",
    "    inputs = Input((latent_size,))\n",
    "    x = Dense(32,activation=None)(inputs)\n",
    "    x = LeakyReLU(alpha=0.1)(x)\n",
    "    x = Dense(14*19*32,activation=None)(x)\n",
    "    x = LeakyReLU(alpha=0.1)(x)\n",
    "    x = Reshape((14,19,32))(x)\n",
    "    x = Conv2DTranspose(32,(3,3),strides=(2,2),activation=None)(x)\n",
    "    x = LeakyReLU(alpha=0.1)(x)\n",
    "    x = BatchNormalization()(x) \n",
    "    x = Conv2DTranspose(32,(3,3),strides=(2,2),activation=None)(x)\n",
    "    x = LeakyReLU(alpha=0.1)(x)\n",
    "    x = BatchNormalization()(x)\n",
    "    x = Conv2DTranspose(3,(3,3),strides=(2,2),activation='sigmoid')(x)\n",
    "    #x = LeakyReLU(alpha=0.1)(x)\n",
    "    x = ZeroPadding2D(((0,1),(0,1)))(x)\n",
    "    outputs = BatchNormalization()(x)\n",
    "    return Model(inputs=inputs, outputs=outputs,name='decoder')\n",
    "# regularizers instead of batch norm?\n",
    "# try increasing dropout?\n",
    "# lowering image resolution?\n",
    "# Try predicting the latent vector of the sequence+nextframe\n",
    "def get_regression():\n",
    "    inputs = Input((latent_size,))\n",
    "    x = Dropout(.3)(inputs)\n",
    "    x = Dense(16,activation=None)(x)\n",
    "    x = LeakyReLU(alpha=0.1)(x)\n",
    "    x = Dropout(.3)(x)\n",
    "    outputs = Dense(1,activation='linear')(x)\n",
    "    return Model(inputs=inputs,outputs=outputs,name='regression')\n",
    "\n",
    "print('Encoder:')\n",
    "get_encoder().summary()\n",
    "print('Decoder:')\n",
    "get_decoder().summary()\n",
    "#get_regression().summary()"
   ]
  },
  {
   "cell_type": "code",
   "execution_count": 23,
   "metadata": {},
   "outputs": [],
   "source": [
    "# build the autoencoder\n",
    "inputs = Input((sequence_length,height,width,3))\n",
    "latent = get_encoder()(inputs)\n",
    "regression_output = get_regression()(latent)\n",
    "dec_output = get_decoder()(latent)\n",
    "autoencoder = Model(inputs=inputs,outputs=dec_output)\n",
    "encoder = Model(inputs=inputs, outputs=latent)\n",
    "regression = Model(inputs=inputs,outputs=regression_output)\n",
    "\n",
    "# compile with mean absolute error loss on reconstructed image and binary_cross for discriminator\n",
    "autoencoder.compile(loss='mse',optimizer=Adam())\n",
    "regression.compile(loss='mse',optimizer=RMSprop())"
   ]
  },
  {
   "cell_type": "code",
   "execution_count": 24,
   "metadata": {},
   "outputs": [
    {
     "name": "stdout",
     "output_type": "stream",
     "text": [
      "Real epoch:  1\n",
      "Epoch 1/1\n",
      "1020/1020 [==============================] - 97s 95ms/step - loss: 3.9544 - val_loss: 0.7410\n",
      "\n",
      "Epoch 1/2\n",
      "1020/1020 [==============================] - 83s 81ms/step - loss: 41.9666 - val_loss: 43.2896\n",
      "Epoch 2/2\n",
      "1020/1020 [==============================] - 81s 79ms/step - loss: 23.6020 - val_loss: 11.6305\n",
      "\n",
      "Real epoch:  2\n",
      "Epoch 1/1\n",
      "1020/1020 [==============================] - 94s 92ms/step - loss: 0.4236 - val_loss: 0.3281\n",
      "\n",
      "Epoch 1/2\n",
      "1020/1020 [==============================] - 81s 79ms/step - loss: 20.2700 - val_loss: 11.4847\n",
      "Epoch 2/2\n",
      "1020/1020 [==============================] - 81s 79ms/step - loss: 16.8032 - val_loss: 15.4360\n",
      "\n",
      "Real epoch:  3\n",
      "Epoch 1/1\n",
      "1020/1020 [==============================] - 94s 92ms/step - loss: 0.3372 - val_loss: 0.3162\n",
      "\n",
      "Epoch 1/2\n",
      "1020/1020 [==============================] - 81s 80ms/step - loss: 16.5736 - val_loss: 11.0770\n",
      "Epoch 2/2\n",
      "1020/1020 [==============================] - 82s 80ms/step - loss: 14.2865 - val_loss: 9.7771\n",
      "\n",
      "Real epoch:  4\n",
      "Epoch 1/1\n",
      "1020/1020 [==============================] - 96s 94ms/step - loss: 0.3328 - val_loss: 0.3179\n",
      "\n",
      "Epoch 1/2\n",
      "1020/1020 [==============================] - 81s 80ms/step - loss: 14.4969 - val_loss: 17.0812\n",
      "Epoch 2/2\n",
      "1020/1020 [==============================] - 82s 80ms/step - loss: 12.8594 - val_loss: 14.3749\n",
      "\n",
      "Real epoch:  5\n",
      "Epoch 1/1\n",
      "1020/1020 [==============================] - 94s 92ms/step - loss: 0.3303 - val_loss: 0.3136\n",
      "\n",
      "Epoch 1/2\n",
      "1020/1020 [==============================] - 81s 80ms/step - loss: 12.6090 - val_loss: 10.2377\n",
      "Epoch 2/2\n",
      "1020/1020 [==============================] - 81s 79ms/step - loss: 11.7941 - val_loss: 25.3160\n",
      "\n"
     ]
    }
   ],
   "source": [
    "ae_history = []\n",
    "reg_history = []\n",
    "for i in range(epochs):\n",
    "    print(\"Real epoch: \", i+1)\n",
    "    tae_history = autoencoder.fit_generator(\n",
    "        train_ae_gen, \n",
    "        steps_per_epoch=int(video_size*split/batch_size), \n",
    "        validation_data=val_ae_gen, \n",
    "        validation_steps=int(video_size*(1-split)/batch_size),\n",
    "        epochs=1,\n",
    "        verbose=True,\n",
    "        callbacks=[ModelCheckpoint('./data/weights.hdf5',save_best_only=True)]\n",
    "    )\n",
    "    print()\n",
    "    ae_history.append(tae_history.history['val_loss'][0]*10)\n",
    "    ae_history.append(tae_history.history['val_loss'][0]*10)\n",
    "    treg_history = regression.fit_generator(\n",
    "        train_re_gen, \n",
    "        steps_per_epoch=int(video_size*split/batch_size), \n",
    "        validation_data=val_re_gen, \n",
    "        validation_steps=int(video_size*(1-split)/batch_size),\n",
    "        epochs=2,\n",
    "        verbose=True,\n",
    "        callbacks=[ModelCheckpoint('./data/reg_weights.hdf5',save_best_only=True)]\n",
    "    )\n",
    "    reg_history.append(treg_history.history['val_loss'][0])\n",
    "    reg_history.append(treg_history.history['val_loss'][1])\n",
    "    print()"
   ]
  },
  {
   "cell_type": "code",
   "execution_count": 28,
   "metadata": {},
   "outputs": [
    {
     "data": {
      "image/png": "[encoded data removed]",
      "text/plain": [
       "<Figure size 432x288 with 1 Axes>"
      ]
     },
     "metadata": {
      "needs_background": "light"
     },
     "output_type": "display_data"
    },
    {
     "data": {
      "text/plain": [
       "<Figure size 432x288 with 0 Axes>"
      ]
     },
     "metadata": {},
     "output_type": "display_data"
    }
   ],
   "source": [
    "# Plot the training loss against the validation loss\n",
    "plt.plot(reg_history)\n",
    "plt.plot(ae_history)\n",
    "\n",
    "plt.xlabel('Epoch')\n",
    "plt.ylabel('Validation Loss')\n",
    "plt.legend(['Regression', 'AutoEncoder(x10)'])\n",
    "plt.savefig(fname='./data/lossplot')\n",
    "plt.show()\n",
    "\n",
    "plt.clf()"
   ]
  },
  {
   "cell_type": "code",
   "execution_count": 49,
   "metadata": {},
   "outputs": [
    {
     "data": {
      "image/png": "[encoded data removed]",
      "text/plain": [
       "<Figure size 3600x360 with 1 Axes>"
      ]
     },
     "metadata": {
      "needs_background": "light"
     },
     "output_type": "display_data"
    },
    {
     "data": {
      "image/png": "[encoded data removed]",
      "text/plain": [
       "<Figure size 3600x360 with 1 Axes>"
      ]
     },
     "metadata": {
      "needs_background": "light"
     },
     "output_type": "display_data"
    }
   ],
   "source": [
    "def denseflow_as_image(x):\n",
    "  x = x.astype(np.uint8)\n",
    "  x = cv.cvtColor(x,cv.COLOR_HSV2BGR)\n",
    "  return x\n",
    "\n",
    "def show_grid_of_images(x):\n",
    "  plt.figure(figsize=(50,5))\n",
    "  for i in range(len(x)):\n",
    "    plt.subplot(1,len(x),i+1)\n",
    "    plt.imshow(denseflow_as_image(x[i]))\n",
    "    plt.axis('off')\n",
    "  plt.show()\n",
    "\n",
    "ims, _ = next(train_ae_gen)\n",
    "preds = autoencoder.predict(ims)\n",
    "show_grid_of_images(ims[1][-1:]*255)\n",
    "show_grid_of_images([preds[1]*255])"
   ]
  },
  {
   "cell_type": "code",
   "execution_count": null,
   "metadata": {},
   "outputs": [],
   "source": []
  }
 ],
 "metadata": {
  "colab": {
   "collapsed_sections": [],
   "include_colab_link": true,
   "name": "Untitled2.ipynb",
   "provenance": [],
   "version": "0.3.2"
  },
  "kernelspec": {
   "display_name": "Python 3",
   "language": "python",
   "name": "python3"
  },
  "language_info": {
   "codemirror_mode": {
    "name": "ipython",
    "version": 3
   },
   "file_extension": ".py",
   "mimetype": "text/x-python",
   "name": "python",
   "nbconvert_exporter": "python",
   "pygments_lexer": "ipython3",
   "version": "3.5.6"
  }
 },
 "nbformat": 4,
 "nbformat_minor": 1
}
